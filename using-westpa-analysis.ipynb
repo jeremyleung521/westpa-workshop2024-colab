{
 "cells": [
  {
   "cell_type": "markdown",
   "id": "d955b775-a41f-4210-a4ea-dfcf336a468d",
   "metadata": {},
   "source": [
    "(C) 2024 Cadence Design Systems, Inc. (Cadence)\n",
    "All rights reserved.\n",
    "\n",
    "TERMS FOR USE OF SAMPLE CODE The software below (\"Sample Code\") is\n",
    "provided to current licensees or subscribers of Cadence products or\n",
    "SaaS offerings (each a \"Customer\").\n",
    "Customer is hereby permitted to use, copy, and modify the Sample Code,\n",
    "subject to these terms. Cadence claims no rights to Customer's\n",
    "modifications. Modification of Sample Code is at Customer's sole and\n",
    "exclusive risk. Sample Code may require Customer to have a then\n",
    "current license or subscription to the applicable Cadence offering.\n",
    "THE SAMPLE CODE IS PROVIDED \"AS IS\", WITHOUT WARRANTY OF ANY KIND,\n",
    "EXPRESS OR IMPLIED.  OPENEYE DISCLAIMS ALL WARRANTIES, INCLUDING, BUT\n",
    "NOT LIMITED TO, WARRANTIES OF MERCHANTABILITY, FITNESS FOR A\n",
    "PARTICULAR PURPOSE AND NONINFRINGEMENT. In no event shall Cadence be\n",
    "liable for any damages or liability in connection with the Sample Code\n",
    "or its use."
   ]
  },
  {
   "cell_type": "markdown",
   "id": "e3e457cb-0654-47e1-91e3-0c39d2880a8f",
   "metadata": {},
   "source": [
    "# A tour of `westpa.analysis`"
   ]
  },
  {
   "cell_type": "markdown",
   "id": "0b4fdf68-8b92-4cca-83a7-263f4b730f80",
   "metadata": {
    "jp-MarkdownHeadingCollapsed": true
   },
   "source": [
    "The `analysis` subpackage provides a lightweight Python API for interacting with west.h5 files and accessing saved trajectory data. It is designed with interactive computing in mind, where the goal might be exploratory analysis or prototyping a new analysis method. Note that, unlike the CLI tools, `westpa.analyis` is unaware of west.cfg files and the analysis schemes defined therein."
   ]
  },
  {
   "cell_type": "markdown",
   "id": "3282d9a5-90b3-4369-b9d3-e06ddee4ee3d",
   "metadata": {},
   "source": [
    "## Data organization"
   ]
  },
  {
   "cell_type": "markdown",
   "id": "fdb64ace-24d2-469c-a5a8-6e46aa0791c5",
   "metadata": {},
   "source": [
    "The API is organized around the `Run` data type, which represents a WE simulation run. A `Run` object can be created by passing a west.h5 file path to the `open()` class method:"
   ]
  },
  {
   "cell_type": "code",
   "execution_count": null,
   "id": "607a78f7-9640-4f63-8369-0475b12fe6d7",
   "metadata": {},
   "outputs": [],
   "source": [
    "from westpa.analysis import Run\n",
    "\n",
    "run = Run.open(\"completed_files/west.h5\")\n",
    "run"
   ]
  },
  {
   "cell_type": "markdown",
   "id": "c2c7616e-1060-4a62-8576-7ea55deeb5d0",
   "metadata": {},
   "source": [
    "A `Run` object is an iterable of `Iteration` objects (one for each *completed* WE iteration). Each `Iteration` object is an iterable of `Walker` objects:"
   ]
  },
  {
   "cell_type": "code",
   "execution_count": null,
   "id": "83e14e3d-9a7c-44cc-a6d3-b51350cd7086",
   "metadata": {},
   "outputs": [],
   "source": [
    "for iteration in run:\n",
    "    for walker in iteration:\n",
    "        ...\n",
    "walker"
   ]
  },
  {
   "cell_type": "markdown",
   "id": "a6fe0079-e7c2-4a4b-93d4-03cea8e1e4c0",
   "metadata": {},
   "source": [
    "Iterations and walkers can also be accessed individually, e.g.,  "
   ]
  },
  {
   "cell_type": "code",
   "execution_count": null,
   "id": "7a2faba1-294a-4639-b3a9-47cc231c422b",
   "metadata": {},
   "outputs": [],
   "source": [
    "run.iteration(10).walker(4)"
   ]
  },
  {
   "cell_type": "markdown",
   "id": "328c8df0-1059-46d0-9e07-671b20df8e74",
   "metadata": {},
   "source": [
    "## Summary tables"
   ]
  },
  {
   "cell_type": "markdown",
   "id": "22646bd9-9500-4bbe-8ec2-6a5d1b46f356",
   "metadata": {},
   "source": [
    "The iteration summary table for a run can be accessed using the `summary` attribute:"
   ]
  },
  {
   "cell_type": "code",
   "execution_count": null,
   "id": "038cda0c-e952-40f9-bd12-7552fd201728",
   "metadata": {
    "scrolled": true
   },
   "outputs": [],
   "source": [
    "run.summary[:10]"
   ]
  },
  {
   "cell_type": "markdown",
   "id": "9a469c20-000c-4ebe-9595-a080d588f880",
   "metadata": {},
   "source": [
    "The segment summary table (\"seg_index\") for an iteration can be accessed using the `segment_summaries` attribute:"
   ]
  },
  {
   "cell_type": "code",
   "execution_count": null,
   "id": "d61eab6c-da97-48d0-a6a6-bdf45d6da553",
   "metadata": {
    "scrolled": true
   },
   "outputs": [],
   "source": [
    "run.iteration(1).segment_summaries"
   ]
  },
  {
   "cell_type": "markdown",
   "id": "ce39daec-b488-496c-a8e2-04d3bb611f63",
   "metadata": {},
   "source": [
    "Iterations also have `basis_state_summaries` and `target_state_summaries` attributes."
   ]
  },
  {
   "cell_type": "markdown",
   "id": "ee22e97f-6d5e-4037-ac7d-aa63dd47bd16",
   "metadata": {},
   "source": [
    "## Weights and progress coordinates"
   ]
  },
  {
   "cell_type": "markdown",
   "id": "849e66b4-c611-4e70-ad52-abac9ad55a7b",
   "metadata": {},
   "source": [
    "Weights and progress coordinates can be accessed on a per-iteration basis:"
   ]
  },
  {
   "cell_type": "code",
   "execution_count": null,
   "id": "f8afee5d-aeec-4bc7-931f-9c85a4bdd710",
   "metadata": {},
   "outputs": [],
   "source": [
    "iteration = run.iteration(1)\n",
    "iteration.weights, iteration.pcoords"
   ]
  },
  {
   "cell_type": "markdown",
   "id": "afa2a59f-c9b2-499a-8487-914987c0555c",
   "metadata": {},
   "source": [
    "or on a per-walker basis:"
   ]
  },
  {
   "cell_type": "code",
   "execution_count": null,
   "id": "78dd2297-bed4-4253-9dd1-48da0faa8d29",
   "metadata": {
    "scrolled": true
   },
   "outputs": [],
   "source": [
    "walker = run.iteration(1).walker(0)\n",
    "walker.weight, walker.pcoords"
   ]
  },
  {
   "cell_type": "markdown",
   "id": "898bc8f2-997f-4d1d-8d07-0d12f80ddfed",
   "metadata": {},
   "source": [
    "**Performance consideration:** It is generally much faster to load the progress coordinates for an iteration all at once, rather than by looping over individual walkers:"
   ]
  },
  {
   "cell_type": "code",
   "execution_count": null,
   "id": "9b0f4fcc-ec6e-4025-9f9e-8fe4867f2ab9",
   "metadata": {},
   "outputs": [],
   "source": [
    "%%timeit\n",
    "for iteration in run:\n",
    "    _ = iteration.pcoords"
   ]
  },
  {
   "cell_type": "code",
   "execution_count": null,
   "id": "058486d3-19e6-4d6d-a277-33f64d973b28",
   "metadata": {},
   "outputs": [],
   "source": [
    "%%timeit\n",
    "for iteration in run:\n",
    "    for walker in iteration:\n",
    "        _ = walker.pcoords"
   ]
  },
  {
   "cell_type": "markdown",
   "id": "91234343-d99d-4970-98d4-c741730ae107",
   "metadata": {},
   "source": [
    "## Bins"
   ]
  },
  {
   "cell_type": "markdown",
   "id": "15d8e949-bc37-41ab-906f-3c4e859ab316",
   "metadata": {},
   "source": [
    "The bin mapper used for resampling (regarded as the first step of an iteration) is given by the `bin_mapper` attribute:"
   ]
  },
  {
   "cell_type": "code",
   "execution_count": null,
   "id": "a67629f1-00c6-4453-93e2-286547914c29",
   "metadata": {
    "scrolled": true
   },
   "outputs": [],
   "source": [
    "run.iteration(2).bin_mapper"
   ]
  },
  {
   "cell_type": "markdown",
   "id": "93ebb2e6-7170-401e-bdd0-062b84f112c9",
   "metadata": {},
   "source": [
    "The bin mapper defines a set of bins:"
   ]
  },
  {
   "cell_type": "code",
   "execution_count": null,
   "id": "8d3b7b4f-07e9-486f-b3fa-b439869554d4",
   "metadata": {
    "scrolled": true
   },
   "outputs": [],
   "source": [
    "bins = list(run.iteration(2).bins)\n",
    "bins"
   ]
  },
  {
   "cell_type": "markdown",
   "id": "e0ba6c49-7117-4033-b830-1eebc5354203",
   "metadata": {},
   "source": [
    "Here, a `Bin` object is a [container](https://docs.python.org/3/library/collections.abc.html#collections.abc.Container) representing a subset of progress coordinate space. For non-adaptive bin mappers that always map a given progress coordinate point to the same bin index, bin membership can be checked using the `in` operator:"
   ]
  },
  {
   "cell_type": "code",
   "execution_count": null,
   "id": "ba4446f7-b50c-47db-b1a5-047610a3be0d",
   "metadata": {
    "scrolled": true
   },
   "outputs": [],
   "source": [
    "walker = run.iteration(1).walker(0)\n",
    "walker.pcoords[0] in bins[-1]  # True if the walker started in the last bin"
   ]
  },
  {
   "cell_type": "markdown",
   "id": "c36b5349-ae2d-4528-951c-ae9548aa21ec",
   "metadata": {},
   "source": [
    "Given a bin mapper and a set of target states, the *sink* is the union of bins that contain at least one target state. "
   ]
  },
  {
   "cell_type": "code",
   "execution_count": null,
   "id": "4738c872-18d0-4ac2-bf27-c68849a4185d",
   "metadata": {
    "scrolled": true
   },
   "outputs": [],
   "source": [
    "run.iteration(1).sink"
   ]
  },
  {
   "cell_type": "markdown",
   "id": "250bd24c-fadc-4b13-a856-432b88ddc44e",
   "metadata": {},
   "source": [
    "Like a `Bin` object, a `BinUnion` object is a container representing the subset of progress coordinate space. For example, the following loop verifies that the final progress coordinates of recycled walkers fall inside the sink, while the final progress coordinates of non-recycled walkers fall outside the sink:"
   ]
  },
  {
   "cell_type": "code",
   "execution_count": null,
   "id": "412bc45b-0a6b-4e2e-a25e-d0a718cb3fe7",
   "metadata": {},
   "outputs": [],
   "source": [
    "for iteration in run:\n",
    "    for walker in iteration:\n",
    "        if walker.recycled:\n",
    "            assert walker.pcoords[-1] in iteration.sink\n",
    "        else:\n",
    "            assert walker.pcoords[-1] not in iteration.sink"
   ]
  },
  {
   "cell_type": "markdown",
   "id": "825a5773-3860-4a05-b843-f0cb8317075b",
   "metadata": {},
   "source": [
    "## Tracing history"
   ]
  },
  {
   "cell_type": "markdown",
   "id": "cc0613c9-645b-4aeb-9c00-b676ba16c7a7",
   "metadata": {
    "jp-MarkdownHeadingCollapsed": true
   },
   "source": [
    "Each walker has `parent` and `children` attributes. The `parent` can be either a walker from the previous iteration:"
   ]
  },
  {
   "cell_type": "code",
   "execution_count": null,
   "id": "9b0c8f8c-e9d5-44b5-9c15-f64fb15a3880",
   "metadata": {},
   "outputs": [],
   "source": [
    "run.iteration(2).walker(0).parent"
   ]
  },
  {
   "cell_type": "markdown",
   "id": "c9473652-ed97-4f30-a402-2bedfba8cc78",
   "metadata": {},
   "source": [
    "or an initial state:"
   ]
  },
  {
   "cell_type": "code",
   "execution_count": null,
   "id": "753e11f1-ff8f-407c-828f-eb6e8b627b25",
   "metadata": {
    "scrolled": true
   },
   "outputs": [],
   "source": [
    "run.iteration(1).walker(0).parent"
   ]
  },
  {
   "cell_type": "markdown",
   "id": "fa05dd42-6e2a-4f3d-8040-350669f91885",
   "metadata": {},
   "source": [
    "The `children` attribute is an iterable of walkers:"
   ]
  },
  {
   "cell_type": "code",
   "execution_count": null,
   "id": "a8495add-7fb7-49e2-8aaa-f86a538662c9",
   "metadata": {},
   "outputs": [],
   "source": [
    "list(run.iteration(1).walker(0).children)"
   ]
  },
  {
   "cell_type": "markdown",
   "id": "c3419c99-3f9b-4888-a75e-763fdd545c1a",
   "metadata": {},
   "source": [
    "The lineage of a walker can be traced back along parents using the `trace()` method:"
   ]
  },
  {
   "cell_type": "code",
   "execution_count": null,
   "id": "9e6e1380-4555-4e42-a0fd-ea118e600011",
   "metadata": {},
   "outputs": [],
   "source": [
    "walker = max(run.recycled_walkers, key=lambda x: x.weight)\n",
    "trace = walker.trace()\n",
    "trace"
   ]
  },
  {
   "cell_type": "markdown",
   "id": "751f7ba1-a406-4ca9-b53e-d912182b9990",
   "metadata": {},
   "source": [
    "The returned `Trace` object is an iteratable of walkers:"
   ]
  },
  {
   "cell_type": "code",
   "execution_count": null,
   "id": "9ee53b3f-bb6f-486e-ad96-b47971fb9ec9",
   "metadata": {
    "scrolled": true
   },
   "outputs": [],
   "source": [
    "list(trace)"
   ]
  },
  {
   "cell_type": "markdown",
   "id": "93a5f43b-aaf9-40e7-9387-8178e2d721d2",
   "metadata": {},
   "source": [
    "By default, the `trace()` method traces back to an initial state, given by the `initial_state` attribute:"
   ]
  },
  {
   "cell_type": "code",
   "execution_count": null,
   "id": "bb6b8189-c530-4314-9c43-c35e9ae7cef3",
   "metadata": {},
   "outputs": [],
   "source": [
    "trace.initial_state"
   ]
  },
  {
   "cell_type": "markdown",
   "id": "84438f8b-6fb5-404c-b05a-9cf952ea7e59",
   "metadata": {},
   "source": [
    "It is also possible to trace no further than `max_length` iterations:"
   ]
  },
  {
   "cell_type": "code",
   "execution_count": null,
   "id": "9f1c7d42-c90e-43cc-b30c-75a3eee8b7db",
   "metadata": {
    "scrolled": true
   },
   "outputs": [],
   "source": [
    "trace = walker.trace(max_length=5)\n",
    "list(trace)"
   ]
  },
  {
   "cell_type": "markdown",
   "id": "f64fbda9-312a-4990-970f-13c32d5a0e6d",
   "metadata": {},
   "source": [
    "or back to a given `source` region in progress coordinate space:"
   ]
  },
  {
   "cell_type": "code",
   "execution_count": null,
   "id": "4e3af26d-1ac1-4866-890f-7817582b6c2d",
   "metadata": {},
   "outputs": [],
   "source": [
    "class UpperHalfLine:\n",
    "    def __init__(self, x0):\n",
    "        self.x0 = x0\n",
    "        \n",
    "    def __contains__(self, x):\n",
    "        return x > self.x0\n",
    "\n",
    "trace = walker.trace(source=UpperHalfLine(5.0))\n",
    "list(trace)"
   ]
  },
  {
   "cell_type": "markdown",
   "id": "cb355291-afb7-4569-87ab-496f2bafe729",
   "metadata": {},
   "source": [
    "The *history graph* is the directed graph with an edge pointing from each walker to its parent:"
   ]
  },
  {
   "cell_type": "code",
   "execution_count": null,
   "id": "94c21592-5eb4-46b9-88de-cbec2a7d20ae",
   "metadata": {},
   "outputs": [],
   "source": [
    "import networkx as nx\n",
    "\n",
    "def history_graph(run):\n",
    "    return nx.DiGraph((walker, walker.parent) for walker in run.walkers)"
   ]
  },
  {
   "cell_type": "markdown",
   "id": "83e640e1-0ac4-4a55-8ad1-a2a8aa0ed1f0",
   "metadata": {},
   "source": [
    "By taking powers of the adjacency matrix of this graph, we can obtain information about paths (traces) of a given length. This can be useful when constructing a Markov state model with a lag time that is an integer multiple of the resampling time."
   ]
  },
  {
   "cell_type": "code",
   "execution_count": null,
   "id": "ae62e5e7-c2e1-4b58-8faf-0c7ea942c852",
   "metadata": {},
   "outputs": [],
   "source": [
    "from scipy import sparse\n",
    "\n",
    "def lagged_pairs(run, lag=1):\n",
    "    graph = history_graph(run)\n",
    "    nodes = list(graph.nodes)\n",
    "    matrix = sparse.linalg.matrix_power(nx.adjacency_matrix(graph), lag)\n",
    "    for i, j, _ in zip(*sparse.find(matrix)):\n",
    "        yield nodes[j], nodes[i]\n",
    "\n",
    "pairs = list(lagged_pairs(run, lag=3))\n",
    "pairs[:10]"
   ]
  },
  {
   "cell_type": "markdown",
   "id": "08f141fa-582d-48c7-b903-6605836e5c95",
   "metadata": {},
   "source": [
    "## Recycling"
   ]
  },
  {
   "cell_type": "markdown",
   "id": "3b01bf64-ee28-49d9-96f6-69271445b319",
   "metadata": {},
   "source": [
    "The `recycled_walkers` attribute provides an iterator over all recycled walkers in a run or iteration. For example,"
   ]
  },
  {
   "cell_type": "code",
   "execution_count": null,
   "id": "aa0fa41e-a56d-4b5d-8964-bdbdf4b269cf",
   "metadata": {},
   "outputs": [],
   "source": [
    "max(run.recycled_walkers, key=lambda x: x.weight)"
   ]
  },
  {
   "cell_type": "markdown",
   "id": "47139707-e0e1-4f0e-a6a1-367f034d6ded",
   "metadata": {},
   "source": [
    "gives the highest weighted recycled walker, and"
   ]
  },
  {
   "cell_type": "code",
   "execution_count": null,
   "id": "6384b12b-4ebe-4190-8530-9a09aaf2563d",
   "metadata": {
    "scrolled": true
   },
   "outputs": [],
   "source": [
    "%matplotlib ipympl\n",
    "import matplotlib.pyplot as plt\n",
    "\n",
    "plt.plot(\n",
    "    [iteration.number for iteration in run],\n",
    "    [sum(walker.weight for walker in iteration.recycled_walkers) for iteration in run],\n",
    ")\n",
    "plt.xlabel(\"WE Iteration\")\n",
    "plt.ylabel(\"Recycled Weight\")\n",
    "plt.show()"
   ]
  },
  {
   "cell_type": "markdown",
   "id": "8183faff-75b9-425e-a69d-bb2e38cd1c57",
   "metadata": {},
   "source": [
    "plots the total weight recycled at each WE iteration."
   ]
  },
  {
   "cell_type": "markdown",
   "id": "aa016b4d-42f3-479e-b0bb-2bc382a56fc2",
   "metadata": {},
   "source": [
    "## Loading trajectories"
   ]
  },
  {
   "cell_type": "markdown",
   "id": "1b5e20a7-18a9-47a7-bf12-a8288a663320",
   "metadata": {},
   "source": [
    "The `HDF5MDTrajectory` reader can be used to access trajectory data saved using the HDF5 framework:"
   ]
  },
  {
   "cell_type": "code",
   "execution_count": null,
   "id": "2f2e71ef-1801-4f22-86f6-5977294e9553",
   "metadata": {},
   "outputs": [],
   "source": [
    "from westpa.analysis import HDF5MDTrajectory\n",
    "\n",
    "trajectory = HDF5MDTrajectory()"
   ]
  },
  {
   "cell_type": "markdown",
   "id": "dc609321-f2ba-4201-955b-9de2508664b5",
   "metadata": {},
   "source": [
    "Here, `trajectory` is a callable that takes a walker or trace as input and returns the corresponding trajectory as an `mdtraj.Trajectory` object. E.g.,"
   ]
  },
  {
   "cell_type": "code",
   "execution_count": null,
   "id": "7d80326e-a2bf-4df2-a22c-0c7a47b50dc4",
   "metadata": {},
   "outputs": [],
   "source": [
    "walker = run.iterations[-1].walker(0)\n",
    "trajectory(walker)"
   ]
  },
  {
   "cell_type": "code",
   "execution_count": null,
   "id": "82b93027-81ef-4e28-9049-ef21b65abcf3",
   "metadata": {},
   "outputs": [],
   "source": [
    "traj = trajectory(walker.trace())\n",
    "traj"
   ]
  },
  {
   "cell_type": "code",
   "execution_count": null,
   "id": "9f4e9a36-7fb6-4992-a65d-027e1317eb38",
   "metadata": {},
   "outputs": [],
   "source": [
    "import nglview\n",
    "\n",
    "view = nglview.show_mdtraj(traj)\n",
    "view"
   ]
  },
  {
   "cell_type": "markdown",
   "id": "e05f0c16-bd97-4c71-b02e-613be60c4a26",
   "metadata": {},
   "source": [
    "## Closing a run"
   ]
  },
  {
   "cell_type": "markdown",
   "id": "c70e6f44-64e2-4bd6-a7da-0a6533cf0ea3",
   "metadata": {},
   "source": [
    "The `close()` method closes a run and its underlying west.h5 file:"
   ]
  },
  {
   "cell_type": "code",
   "execution_count": null,
   "id": "b6c60ee7-931d-4812-b64a-5754a63e4322",
   "metadata": {},
   "outputs": [],
   "source": [
    "run.close()\n",
    "run"
   ]
  },
  {
   "cell_type": "code",
   "execution_count": null,
   "id": "54c7513b-4df4-488d-8ac7-f7860e7a4de0",
   "metadata": {},
   "outputs": [],
   "source": [
    "run.h5file"
   ]
  },
  {
   "cell_type": "markdown",
   "id": "ed41967d-cf7f-43fa-a1a7-412520fe8c87",
   "metadata": {},
   "source": [
    "A run can also be used as a context manager. In this case, it will be closed automatically when execution leaves the context:"
   ]
  },
  {
   "cell_type": "code",
   "execution_count": null,
   "id": "c0cafb67-ceb6-401e-9b77-f3fa238c53df",
   "metadata": {},
   "outputs": [],
   "source": [
    "with Run.open(\"completed_files/west.h5\") as run:\n",
    "    pass\n",
    "\n",
    "run.h5file"
   ]
  }
 ],
 "metadata": {
  "kernelspec": {
   "display_name": "Python 3 (ipykernel)",
   "language": "python",
   "name": "python3"
  },
  "language_info": {
   "codemirror_mode": {
    "name": "ipython",
    "version": 3
   },
   "file_extension": ".py",
   "mimetype": "text/x-python",
   "name": "python",
   "nbconvert_exporter": "python",
   "pygments_lexer": "ipython3",
   "version": "3.10.14"
  }
 },
 "nbformat": 4,
 "nbformat_minor": 5
}
