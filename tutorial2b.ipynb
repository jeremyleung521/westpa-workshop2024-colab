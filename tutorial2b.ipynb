{
 "cells": [
  {
   "cell_type": "markdown",
   "metadata": {
    "id": "ZO-B_ZoV7Y9R"
   },
   "source": [
    "# Tutorial 2. Analysis tools (LPATH)\n",
    "Author: Jeremy Leung<br>\n",
    "Email:&nbsp;&nbsp; jml230@pitt.edu"
   ]
  },
  {
   "cell_type": "markdown",
   "metadata": {
    "id": "AN6XQ7uZ8Jfv"
   },
   "source": [
    "## Introduction"
   ]
  },
  {
   "cell_type": "markdown",
   "metadata": {
    "id": "2voseMni-hNu"
   },
   "source": [
    "This document is a companion jupyter notebook for the LPATH section of the second tutorial in the 2024 WESTPA workshop. It involves running a pathway analysis on a SynD-based simulation of NTL9 protein folding using LPATH. Upon completion of this tutorial, a user should be able to analyze any simulation with LPATH.\n",
    "\n",
    "Feel free to pull up the help menu with ``--help`` at any point (e.g., ``lpath extract --help``). While currently broken (waiting for upstream fix), you can also install a TUI (terminal user interface) for LPATH to help with the many options.\n",
    "\n",
    "LPATH Paper: https://pubs.acs.org/doi/full/10.1021/acs.jcim.3c01318<br>\n",
    "GitHub Repository: https://github.com/chonglab-pitt/LPATH<br>\n",
    "Example Files: https://github.com/chonglab-pitt/LPATH/tree/main/examples\n"
   ]
  },
  {
   "cell_type": "markdown",
   "metadata": {
    "id": "Kjh8BIcA8LmS"
   },
   "source": [
    "## 1. Learning Objectives\n"
   ]
  },
  {
   "cell_type": "markdown",
   "metadata": {
    "id": "JrnoReh7-b3O"
   },
   "source": [
    "* How to use LPATH pathway analysis to cluster pathways\n"
   ]
  },
  {
   "cell_type": "markdown",
   "metadata": {
    "id": "jrlbUsAi8NmX"
   },
   "source": [
    "## 2. System Requirements"
   ]
  },
  {
   "cell_type": "markdown",
   "metadata": {
    "id": "YdV16NOR-YVE"
   },
   "source": [
    "- WESTPA >=2022.10 and LPATH >=1.0.3 (Under ``lpath-md`` on PyPI) are needed.\n",
    "- All of these programs are available in the shared environment for the WESTPA workshop."
   ]
  },
  {
   "cell_type": "markdown",
   "metadata": {
    "id": "gm5W2xsXbPY5"
   },
   "source": [
    "## 3. Introduction\n",
    "\n",
    "An introduction to LPATH. Also read this section to setup this notebook."
   ]
  },
  {
   "cell_type": "markdown",
   "metadata": {
    "id": "iyzKSCOSiWiN"
   },
   "source": [
    "The pathways by which a molecular process transitions to a target state are highly sought-after as direct views of a transition mechanism. While great strides have been made in the physics-based simulation of such pathways, the analysis of these pathways can be a major challenge due to their diversity and variable lengths. The LPATH Python tool is a semi-automated method for linguistics-assisted clustering of pathways into distinct classes (or routes). This method involves three steps:\n",
    "1) discretizing the configurational space into key states,\n",
    "2) extracting a text-string sequence of key visited states for each pathway, and\n",
    "3) pairwise matching of pathways based on a text-string similarity score.\n",
    "\n",
    "In this notebook, you'll see two subsections in each step: ``Command Line`` and ``Python``. These are two different ways of calling the same command. You will only need to run one or the other."
   ]
  },
  {
   "cell_type": "markdown",
   "metadata": {
    "editable": true,
    "id": "LPHsqfsPxmXV",
    "slideshow": {
     "slide_type": ""
    },
    "tags": []
   },
   "source": [
    "### Setting up the Notebook\n",
    "\n",
    "Run this section to setup this notebook."
   ]
  },
  {
   "cell_type": "markdown",
   "metadata": {
    "editable": true,
    "jp-MarkdownHeadingCollapsed": true,
    "slideshow": {
     "slide_type": ""
    },
    "tags": []
   },
   "source": [
    "#### Default Setup"
   ]
  },
  {
   "cell_type": "markdown",
   "metadata": {},
   "source": [
    "If you're here during the workshop, we assumed you already have an environment set up. Just make sure your kernel says ``westpa-workshop2024`` (top left corner, next to ⃝).\n",
    "\n",
    "If you're using this notebook on your own, you can create a working environment with the ``env.yaml`` file via ``conda env create -f env.yaml``. If you prefer pip, you can also install all needed packages with the command ``python -m pip install -r ../ntl9_sample_files/requirements.txt``."
   ]
  },
  {
   "cell_type": "markdown",
   "metadata": {
    "editable": true,
    "jp-MarkdownHeadingCollapsed": true,
    "slideshow": {
     "slide_type": ""
    },
    "tags": []
   },
   "source": [
    "#### Google CoLab"
   ]
  },
  {
   "cell_type": "code",
   "execution_count": null,
   "metadata": {
    "id": "2Idu3lii9AL5"
   },
   "outputs": [],
   "source": [
    "from google.colab import output\n",
    "output.enable_custom_widget_manager()"
   ]
  },
  {
   "cell_type": "code",
   "execution_count": null,
   "metadata": {
    "colab": {
     "base_uri": "https://localhost:8080/"
    },
    "id": "flUYvsLW6tv3",
    "outputId": "71814206-9f3d-4a92-feec-6776268cdfdb"
   },
   "outputs": [
    {
     "name": "stdout",
     "output_type": "stream",
     "text": [
      "\u001b[2K     \u001b[90m━━━━━━━━━━━━━━━━━━━━━━━━━━━━━━━━━━━━━━━━\u001b[0m \u001b[32m49.7/49.7 kB\u001b[0m \u001b[31m686.4 kB/s\u001b[0m eta \u001b[36m0:00:00\u001b[0m\n",
      "\u001b[2K     \u001b[90m━━━━━━━━━━━━━━━━━━━━━━━━━━━━━━━━━━━━━━━━\u001b[0m \u001b[32m3.7/3.7 MB\u001b[0m \u001b[31m9.9 MB/s\u001b[0m eta \u001b[36m0:00:00\u001b[0m\n",
      "\u001b[?25h  Installing build dependencies ... \u001b[?25l\u001b[?25hdone\n",
      "  Getting requirements to build wheel ... \u001b[?25l\u001b[?25hdone\n",
      "  Installing backend dependencies ... \u001b[?25l\u001b[?25hdone\n",
      "  Preparing metadata (pyproject.toml) ... \u001b[?25l\u001b[?25hdone\n",
      "\u001b[2K     \u001b[90m━━━━━━━━━━━━━━━━━━━━━━━━━━━━━━━━━━━━━━━━\u001b[0m \u001b[32m65.7/65.7 MB\u001b[0m \u001b[31m10.1 MB/s\u001b[0m eta \u001b[36m0:00:00\u001b[0m\n",
      "\u001b[2K     \u001b[90m━━━━━━━━━━━━━━━━━━━━━━━━━━━━━━━━━━━━━━━━\u001b[0m \u001b[32m2.1/2.1 MB\u001b[0m \u001b[31m57.8 MB/s\u001b[0m eta \u001b[36m0:00:00\u001b[0m\n",
      "\u001b[2K     \u001b[90m━━━━━━━━━━━━━━━━━━━━━━━━━━━━━━━━━━━━━━━━\u001b[0m \u001b[32m1.6/1.6 MB\u001b[0m \u001b[31m59.9 MB/s\u001b[0m eta \u001b[36m0:00:00\u001b[0m\n",
      "\u001b[?25h  Building wheel for pylcs (pyproject.toml) ... \u001b[?25l\u001b[?25hdone\n",
      "/content/westpa-workshop2024-tutorials/tutorial2b-lpath\n"
     ]
    }
   ],
   "source": [
    "!pip install -q -q -q lpath-md scikit-learn westpa synd # -q -q -q is used to silent the installation process.\n",
    "!git clone --quiet https://github.com/jeremyleung521/westpa-workshop2024-tutorials\n",
    "%cd /content/westpa-workshop2024-tutorials/tutorial2b-lpath"
   ]
  },
  {
   "cell_type": "markdown",
   "metadata": {
    "id": "ORENkZfYBTLb"
   },
   "source": [
    "## 4. Discretization\n"
   ]
  },
  {
   "cell_type": "markdown",
   "metadata": {
    "id": "UEYY6D_m6rjo"
   },
   "source": [
    "In this step, source and target states are defined, and (optionally) the regions of configuration space between these states are subdivided into discrete states. We will run the discretization with ``w_assign`` (called through ``lpath discretize``)."
   ]
  },
  {
   "cell_type": "markdown",
   "metadata": {
    "id": "k81EL3SKnY-t"
   },
   "source": [
    "### Command line"
   ]
  },
  {
   "cell_type": "code",
   "execution_count": null,
   "metadata": {
    "colab": {
     "base_uri": "https://localhost:8080/"
    },
    "id": "RqfksjRZXq80",
    "outputId": "423c86fc-2723-4b0d-f2c5-6aa86457fce8"
   },
   "outputs": [],
   "source": [
    "# Note that ``PATH=\"$HOME/.local/bin:$PATH\"`` is added because we are running bash within a jupyter notebook. \n",
    "# In most cases, running ``lpath`` directly should work\n",
    "\n",
    "! PATH=\"$HOME/.local/bin:$PATH\" lpath discretize -we -W ./west.h5 --assign-arguments \"--config-from-file --scheme CRUDE_RMSD\"\n",
    "# -we : Running in \"weighted ensemble\" mode\n",
    "# -W : Our west.h5 file name (which is west.h5)\n",
    "# --assign-arguments : Command line arguments to be passed to w_assign\n",
    "# --config-from-file : Read from configuration file (default: west.cfg)\n",
    "# --scheme : The scheme we're using to discretize states, as specified in the config file (i.e., west.cfg)"
   ]
  },
  {
   "cell_type": "markdown",
   "metadata": {
    "id": "wOnZNMbcnaoH",
    "jp-MarkdownHeadingCollapsed": true
   },
   "source": [
    "### Python"
   ]
  },
  {
   "cell_type": "code",
   "execution_count": null,
   "metadata": {
    "colab": {
     "base_uri": "https://localhost:8080/"
    },
    "id": "w6eYq2vxaH8H",
    "outputId": "511cacc0-cb6c-40dd-8d69-699b24e721aa"
   },
   "outputs": [],
   "source": [
    "from lpath import discretize\n",
    "from argparse import Namespace\n",
    "\n",
    "# All the arguments\n",
    "discrete_args = Namespace(we=True,\n",
    "                          input_name='west.h5',\n",
    "                          west_name='west.h5',\n",
    "                          extract_input='./ANALYSIS/CRUDE_RMSD/assign.h5',\n",
    "                          assign_name='./ANALYSIS/CRUDE_RMSD/assign.h5',\n",
    "                          rcfile='west.cfg',\n",
    "                          assign_args=Namespace(  # These are arguments for w_assign\n",
    "                                                verbosity='verbose',  # Verbose or debug\n",
    "                                                rcfile='west.cfg',  # west.cfg\n",
    "                                                we_h5filename='west.h5',  # west.h5 path\n",
    "                                                construct_dataset=None,  # If you need some custom auxiliary dataset\n",
    "                                                output='assign.h5',  # Output file\n",
    "                                                config_from_file=True,  # Read config from rcfile\n",
    "                                                scheme='CRUDE_RMSD',  # Scheme name\n",
    "                                                max_queue_length=None,  # Other WESTPA-related things, need to be included, but safe to ignore\n",
    "                                                subsample=None,\n",
    "                                                dsspecs=None,\n",
    "                                                  )\n",
    "                          )\n",
    "\n",
    "# Running it.\n",
    "discretize.main(discrete_args)\n",
    "# Little-to-no Output is good."
   ]
  },
  {
   "cell_type": "markdown",
   "metadata": {
    "id": "8BfY5PFqiG3W"
   },
   "source": [
    "## Extract"
   ]
  },
  {
   "cell_type": "markdown",
   "metadata": {
    "id": "dSsSeEN_i6os"
   },
   "source": [
    "In this step, all trajectories connecting the source and target states are traced out into a pickle object. This step is parallelized with ray.\n",
    "\n",
    "We will need to inform LPATH which bin(s) are the start starting state, and  which bin(s) are the target state. This is typically in the order specified in west.cfg (or what was passed into ``w_assign`` or ``lpath discretize``)."
   ]
  },
  {
   "cell_type": "markdown",
   "metadata": {
    "id": "SONIDldIh77K"
   },
   "source": [
    "#### Command Line"
   ]
  },
  {
   "cell_type": "code",
   "execution_count": null,
   "metadata": {
    "colab": {
     "base_uri": "https://localhost:8080/"
    },
    "id": "YF2REHQVZw_B",
    "outputId": "c9a653ad-a3b5-44f4-c431-d4220473a04d"
   },
   "outputs": [],
   "source": [
    "# Note that ``PATH=\"$HOME/.local/bin:$PATH\"`` is added because we are running bash within a jupyter notebook. \n",
    "# In most cases, running ``lpath`` directly should work\n",
    "\n",
    "! PATH=\"$HOME/.local/bin:$PATH\" lpath extract -we -W ./west.h5 -A ./ANALYSIS/CRUDE_RMSD/assign.h5 -ss 1 -ts 0 -p --aux sasa \\\n",
    "--stride 10 --threads=12  # --no-ray\n",
    "# -we : Running in \"weighted ensemble\" mode\n",
    "# -W : Our west.h5 file name (which is west.h5)\n",
    "# -A : The analysis file generated by w_assign\n",
    "# -ss : Starting state index, typically in the order which you specified your states in west.cfg\n",
    "# -ts : Target state index, typically in the order which you specified your states in west.cfg\n",
    "# -p : Include the Progress Coordinate in the output pickle object\n",
    "# --aux : Include the \"sasa\" aux dataset in the output pickle object\n",
    "# --stride : Use N frames from each WE \"tau\" segment. Because we saved 11 frames each WE tau (one for the parent trajectory), we will use all of our data.\n",
    "# --threads : How many threads to use when parallelizing with ray \n",
    "# Note the `--stride` option works differently if you run it on a standard simulation."
   ]
  },
  {
   "cell_type": "markdown",
   "metadata": {
    "id": "TjKPY02wiCGU",
    "jp-MarkdownHeadingCollapsed": true
   },
   "source": [
    "#### Python"
   ]
  },
  {
   "cell_type": "code",
   "execution_count": null,
   "metadata": {
    "colab": {
     "background_save": true
    },
    "id": "smWtEF0Qdulm"
   },
   "outputs": [],
   "source": [
    "from lpath import extract\n",
    "from argparse import Namespace\n",
    "import os\n",
    "\n",
    "# Since we're bypassing the command line argparse, we need to make our output directory 'succ_traj' manually\n",
    "try:\n",
    "    os.mkdir('succ_traj')\n",
    "except FileExistsError:\n",
    "    pass\n",
    "\n",
    "# All the arguments\n",
    "extract_args = Namespace(debug=False,\n",
    "                         we=True,\n",
    "                         out_dir='succ_traj',\n",
    "                         stride=10,\n",
    "                         west_name='./west.h5',\n",
    "                         rc_file='west.cfg',\n",
    "                         extract_input='states.npy',\n",
    "                         extract_output='succ_traj/output.pickle',\n",
    "                         assign_name='./ANALYSIS/CRUDE_RMSD/assign.h5',\n",
    "                         source_state_num=1,\n",
    "                         target_state_num=0,\n",
    "                         pcoord=True,\n",
    "                         featurization_name=None,\n",
    "                         feature_stride=1,\n",
    "                         trace_basis=False,\n",
    "                         exclude_short=0,\n",
    "                         use_ray=True,\n",
    "                         threads=0,\n",
    "                         first_iter=1,\n",
    "                         last_iter=0,\n",
    "                         stats=True,\n",
    "                         hdf5=False, auxdata=None, rewrite_weights=False, out_traj=False, out_traj_ext='.nc', out_state_ext='.ncrst', out_top='system.prmtop',\n",
    "                         )\n",
    "\n",
    "# Running it\n",
    "extract.main(extract_args)"
   ]
  },
  {
   "cell_type": "markdown",
   "metadata": {
    "id": "FMsNenJgLKHW"
   },
   "source": [
    "## Match"
   ]
  },
  {
   "cell_type": "markdown",
   "metadata": {
    "id": "7iYhndRaymkp"
   },
   "source": [
    "In this step, we compare all of the successful trajectories from the \"extract\" step. These pathways are first transformed into a string representing the discrete states. Then, we will use hierarchical clustering to separate these pathways into distinct classes.\n",
    "\n",
    "For example if a trajectory went through states 0 --> 1 --> 2 --> 1 --> 3 and our dictionary maps 0,1,2,3 to A,B,C,D, then the trajectory could be represented as string 'ABCBD'."
   ]
  },
  {
   "cell_type": "markdown",
   "metadata": {
    "id": "cU7bLhyUzZJ6"
   },
   "source": [
    "### Using just the Pcoord (CA-RMSD)"
   ]
  },
  {
   "cell_type": "markdown",
   "metadata": {
    "id": "slq0bBxZvDAd"
   },
   "source": [
    "As a first step, we will run LPATH matching only with CA-RMSD."
   ]
  },
  {
   "cell_type": "markdown",
   "metadata": {
    "id": "hF2cURgAu57h"
   },
   "source": [
    "#### Command Line"
   ]
  },
  {
   "cell_type": "code",
   "execution_count": null,
   "metadata": {
    "colab": {
     "base_uri": "https://localhost:8080/"
    },
    "id": "fKlOQYkNoiAM",
    "outputId": "c526be84-cd87-4892-a998-0da4e8dede74"
   },
   "outputs": [],
   "source": [
    "# Note that ``PATH=\"$HOME/.local/bin:$PATH\"`` is added because we are running bash within a jupyter notebook. \n",
    "# In most cases, running ``lpath`` directly should work\n",
    "\n",
    "! PATH=\"$HOME/.local/bin:$PATH\" lpath match --condense 2 --plots-hide --n-clusters 2 --timeout 0 --stats\n",
    "# --condense : Any states that repeat N times in a row are condensed into a single instance (e.g., AABBAA will turn into ABA)\n",
    "# --plots-hide : Do not show plots (dendrogram)\n",
    "# --n-clusters : The numbers of clusters to divide the pathways into. LPATH will ask you questions interactively.\n",
    "# --timeout : How long to wait for prompts. 0 completely skips the prompts.\n",
    "# --stats : Show Matching statistics"
   ]
  },
  {
   "cell_type": "code",
   "execution_count": null,
   "metadata": {
    "colab": {
     "base_uri": "https://localhost:8080/"
    },
    "id": "HfC6KfoBpTaC",
    "outputId": "0589ce09-ae5a-49aa-f8f9-a1aaec4089d5"
   },
   "outputs": [],
   "source": [
    "!ls succ_traj"
   ]
  },
  {
   "cell_type": "code",
   "execution_count": null,
   "metadata": {
    "colab": {
     "base_uri": "https://localhost:8080/",
     "height": 421
    },
    "id": "WvPi7ugnoh8-",
    "outputId": "06b529c3-de36-4a0c-b030-4b1616a83fc2"
   },
   "outputs": [],
   "source": [
    "from IPython.display import IFrame, display\n",
    "filepath = \"plots/dendroram.pdf\"\n",
    "IFrame(filepath, width=700, height=400)"
   ]
  },
  {
   "cell_type": "markdown",
   "metadata": {
    "id": "3SOvdX3Gu9lT",
    "jp-MarkdownHeadingCollapsed": true
   },
   "source": [
    "#### Python"
   ]
  },
  {
   "cell_type": "code",
   "execution_count": null,
   "metadata": {
    "colab": {
     "base_uri": "https://localhost:8080/",
     "height": 654,
     "referenced_widgets": [
      "c3deed447ae0489ea643412c4a43c01c",
      "4eb6521c74df4c04bb6e30580c0bd1a1",
      "582946b8b55c4f82baa0602d5ac7299b",
      "6a4f2baaa81c411b83ec7fd966c9dcd2",
      "9dc637108b0b45e8b2a48812f7b99215",
      "2fa73f00d0374b97a6f19ae15a318795",
      "a96e001c02834e9aaf88dad5162cbad8",
      "2d99991acf884a9da456462516e37857",
      "fa5abd55eaf44e00919fae7289ed4ee9",
      "d14fc6d4468245bbb22e9e2dab41460c",
      "28b71f48dbb44f47af615d8aa00b0974"
     ]
    },
    "id": "6d1a_EaouvW5",
    "outputId": "1adc5ef5-0d14-4fa0-9961-30a4e43ee09d"
   },
   "outputs": [
    {
     "data": {
      "application/vnd.jupyter.widget-view+json": {
       "model_id": "c3deed447ae0489ea643412c4a43c01c",
       "version_major": 2,
       "version_minor": 0
      },
      "text/plain": [
       "  0%|          | 0/1482 [00:00<?, ?it/s]"
      ]
     },
     "metadata": {
      "application/vnd.jupyter.widget-view+json": {
       "colab": {
        "custom_widget_manager": {
         "url": "https://ssl.gstatic.com/colaboratory-static/widgets/colab-cdn-widget-manager/2b70e893a8ba7c0f/manager.min.js"
        }
       }
      }
     },
     "output_type": "display_data"
    },
    {
     "name": "stdout",
     "output_type": "stream",
     "text": [
      "Do you want to regenerate the graph with a new threshold (y/[n])?\n",
      "lpath.match — \u001b[1;32mINFO\u001b[0m — \n",
      "===LPATH Pattern Matching Statistics===\n",
      "   Total Number of clusters: 3\n",
      "   Weight/count/unique count of cluster 0: 4.70753733e-03 / 39 / N/A\n",
      "   Weight/count/unique count of cluster 1: 0.00000000e+00 / 0 / N/A\n",
      "   Weight/count/unique count of cluster 2: 0.00000000e+00 / 0 / N/A\n",
      "\n",
      "lpath.match — \u001b[1;32mINFO\u001b[0m — Outputting files\n",
      "lpath.match — \u001b[1;32mINFO\u001b[0m — cluster 0 representative weight: [20.0 8.0 0.0 0.9811999797821045 3049.9984328125 8.0 0.0005918560606060604]\n"
     ]
    },
    {
     "name": "stderr",
     "output_type": "stream",
     "text": [
      "/usr/local/lib/python3.10/dist-packages/scipy/cluster/hierarchy.py:2844: UserWarning: Attempting to set identical low and high ylims makes transformation singular; automatically expanding.\n",
      "  ax.set_ylim([0, dvw])\n"
     ]
    },
    {
     "data": {
      "image/png": "[encoded data removed]",
      "text/plain": [
       "<Figure size 640x480 with 1 Axes>"
      ]
     },
     "metadata": {},
     "output_type": "display_data"
    }
   ],
   "source": [
    "from lpath import match\n",
    "from argparse import Namespace\n",
    "import os\n",
    "\n",
    "# Since we're bypassing the command line argparse, we need to make our output directory 'plots' manually\n",
    "try:\n",
    "    os.mkdir('plots')\n",
    "except FileExistsError:\n",
    "    pass\n",
    "\n",
    "# All the arguments\n",
    "match_args = Namespace(debug=False,\n",
    "                       we=True,\n",
    "                       stats=True,\n",
    "                       out_dir='succ_traj',\n",
    "                       assign_name='./ANALYSIS/CRUDE_RMSD/assign.h5',\n",
    "                       west_name='./west.h5',\n",
    "                       rc_file='west.cfg',\n",
    "                       extract_output='succ_traj/output.pickle',\n",
    "                       cl_output='succ_traj/cluster_labels.npy',\n",
    "                       out_path='plots',\n",
    "                       output_pickle='succ_traj/pathways.pickle',\n",
    "                       stride=10,\n",
    "                       dmatrix_parallel=None,\n",
    "                       dmatrix_remake=True,\n",
    "                       dmatrix_save='succ_traj/distmat.npy',\n",
    "                       condense=2,\n",
    "                       exclude_short=0,\n",
    "                       export_h5=False,\n",
    "                       file_pattern='west_succ_c{}.h5',\n",
    "                       match_metric='longest_common_subsequence',\n",
    "                       match_vanilla=False,\n",
    "                       matplotlib_args='',\n",
    "                       mpl_colors=['tomato', 'dodgerblue', 'orchid', 'mediumseagreen', 'darkorange', 'mediumpurple', 'grey'],\n",
    "                       mpl_styles='default',\n",
    "                       num_clusters=3,\n",
    "                       dendrogram_threshold=0.5,\n",
    "                       plot_timeout=0,\n",
    "                       relabel_method='relabel_identity',\n",
    "                       remove_ends=False,\n",
    "                       dendrogram_show=False,\n",
    "                       clusters=None,\n",
    "                       reassign_method='reassign_identity',\n",
    "                       )\n",
    "\n",
    "# Running it\n",
    "match.main(match_args)"
   ]
  },
  {
   "cell_type": "markdown",
   "metadata": {
    "id": "kFSfhWGGzmEU"
   },
   "source": [
    "### Using both Pcoord and SASA"
   ]
  },
  {
   "cell_type": "markdown",
   "metadata": {
    "id": "tMMC2GMe2Wvz"
   },
   "source": [
    "It seems like just using CA-RMSD is not sufficient to separate our pathways (and elucidate our pathway classes). This is likely because RMSDs for folding pathways are often monotonically decreasing. We will now include solvent accessible surface area (SASA) data in order to better separate our intermediate states. SASA is a measurement of the surface area of the solute which is in contact with the solvent, as measured by rolling a circular probe (1.4Å in radius) and counting the area traversed by the center of the probe.\n",
    "\n",
    "Because we only used the pcoord (CA-RMSD) with ``LPATH discretize`` (i.e., ``w_assign``), we will need to reassign each frame with the additional SASA dataset. While we could rerun everything from the start using ``w_assign``, we will use ``--reassign`` option from ``lpath match`` to speed things up. Luckily we saved the \"sasa\" auxdata into the pickle object when running ``lpath extract`` earlier. We will pass in a custom function to ``lpath match``, but there are a few other pre-written options available as well:\n",
    "    \n",
    "\n",
    "*   reassign_identity : Use what is previously provided in ``assign.h5`` (default)\n",
    "*   reassign_segid : Reassign states with segment ID (only suitable with a single simulation)\n",
    "*   reassign_statelabel : Reassign using state in \"state_labels\" dataset from assign.h5 file provided using ``--assign-file`` (could be a different ``assign.h5`` file from before)\n",
    "\n",
    "\n",
    "\n",
    "\n",
    "This step is necessary if you want to determine your source and target states completely differently from how you would determine your \"intermediate\" states."
   ]
  },
  {
   "cell_type": "markdown",
   "metadata": {
    "id": "7tUVLDq41Ef8",
    "jp-MarkdownHeadingCollapsed": true
   },
   "source": [
    "#### Explanation of the pickle object"
   ]
  },
  {
   "cell_type": "markdown",
   "metadata": {
    "id": "yo55FDsz1JFU"
   },
   "source": [
    "The pickle objects contain a list of lists (or a nested numpy array, with padding frames). They are structured in the following shape, Where each pathway is in sequential time order (i.e., increasing iteration, then frame number):  \n",
    "\n",
    "    (n_pathways, n_frames, [iteration_num, seg_num, state_id, {pcoord, auxdata}, frame_num, weight])\n",
    "\n",
    "The number of datasets included in the {pcoord, auxdata} columns depends on what you specified in ``lpath extract``.\n",
    "\n",
    "In the nested numpy array versions (i.e. regenerated by ``lpath match``), empty frames are added because numpy does not like ragged arrays. Because WESTPA does not reference anything as ``iteration 0`` in the west.h5, one can check if an entry is a placeholder by testing whether the first column (iteration number) is 0."
   ]
  },
  {
   "cell_type": "markdown",
   "metadata": {
    "id": "_MPhZFDCDbZ1",
    "jp-MarkdownHeadingCollapsed": true
   },
   "source": [
    "#### Reassign function"
   ]
  },
  {
   "cell_type": "markdown",
   "metadata": {
    "id": "KK6kVdb12Tt_"
   },
   "source": [
    "The following code is the function we will use to reassign the frames. The ``binned_statistic_2d`` function from ``scipy`` is a quick way to assign frames into a 2D grid."
   ]
  },
  {
   "cell_type": "markdown",
   "metadata": {
    "id": "JSpDqFUg2zhG"
   },
   "source": [
    "```\n",
    "import numpy\n",
    "from scipy.stats import binned_statistic_2d\n",
    "\n",
    "# These are the new binning/state definitions\n",
    "# First dimension is the CA-RMSD, the second is SASA\n",
    "bin_edges = [[0,1,3.5,6,8.5,10, numpy.inf], [0, 3000, 3050, 3100, 3200, 3300, 3400, 3500, 3600, 3700, 3800, 3900, numpy.inf]]\n",
    "n_rows = len(bin_edges[0])-1\n",
    "n_cols = len(bin_edges[1])-1\n",
    "tot_bins = n_rows * n_cols\n",
    "\n",
    "def reassign_custom(data, pathways, dictionary, assign_file=None):\n",
    "    # \"data\" is the input array, \"pathways\" is the output file\n",
    "    # We also need to provide a dictionary which maps the state_id (and integer)\n",
    "    # to a unique single character for each state\n",
    "    for idx, val in enumerate(data):\n",
    "        val_arr = numpy.asarray(val)\n",
    "\n",
    "        # Assigning all frames to the binning scheme we've defined above.\n",
    "        _, _, _, index = binned_statistic_2d(val_arr[:,3], val_arr[:,4], val_arr[:,3], bins= bin_edges, expand_binnumbers=True)\n",
    "\n",
    "        for idx2, val2 in enumerate(val_arr):\n",
    "            if val2[2] < 2:\n",
    "                # If from source or sink state, skip. We're not changing the source/target definition\n",
    "                continue\n",
    "            else:\n",
    "                # Replace state id with the index sum, downsizing the 2D index into a unique 1D index\n",
    "                val2[2] = int(index[0, idx2] * n_rows + index[1, idx2] + 2)  # Adding 2 because we want to reserve 0, 1 for our source, sink states\n",
    "\n",
    "            # Overwriting the output \"pathways\"\n",
    "            pathways[idx, idx2] = val2\n",
    "\n",
    "    # Generating a dictionary mapping each state, last one is the \"unknown\" state\n",
    "    # Unknown state is given when a frame is in a region not explicitly defined a state.\n",
    "    dictionary = {0:\"0\", 1:\"1\"}  # Source, sink states\n",
    "    dictionary.update({i+2: chr(50+i) for i in range(tot_bins)})  # One for each bin\n",
    "    dictionary.update({74: '!'})  # The \"Unknown\" state, where it visited a region not defined\n",
    "\n",
    "    return dictionary\n",
    "```"
   ]
  },
  {
   "cell_type": "markdown",
   "metadata": {
    "id": "TPmrCWQ82p1F"
   },
   "source": [
    "#### Command Line"
   ]
  },
  {
   "cell_type": "code",
   "execution_count": null,
   "metadata": {
    "colab": {
     "base_uri": "https://localhost:8080/"
    },
    "id": "-Ed2v_M6zlRJ",
    "outputId": "32ec9f24-e656-454b-f6da-f8d3835c7580"
   },
   "outputs": [],
   "source": [
    "# Note that ``PATH=\"$HOME/.local/bin:$PATH\"`` is added because we are running bash within a jupyter notebook. \n",
    "# In most cases, running ``lpath`` directly should work\n",
    "\n",
    "! PATH=\"$HOME/.local/bin:$PATH\" lpath match --condense 2 --plots-hide --n-clusters 3 --timeout 0 --reassign reassign_custom.reassign_custom --stats\n",
    "# --condense : Any states that repeat N times (or less) in a row are condensed into a single instance (e.g., AABBAA will turn into ABA)\n",
    "# --plots-hide : Do not show plots (dendrogram)\n",
    "# --n-clusters : The numbers of clusters to divide the pathways into. Typically, LPATH will prompt you questions interactively but this allows you to bypass that.\n",
    "# --timeout : How long to wait for prompts. 0 completely skips the prompts.\n",
    "# --reassign : A custom function to reassign.\n",
    "# --stats : Show Matching statistics"
   ]
  },
  {
   "cell_type": "markdown",
   "metadata": {
    "id": "5lkH3KLjDEhs",
    "jp-MarkdownHeadingCollapsed": true
   },
   "source": [
    "#### Python"
   ]
  },
  {
   "cell_type": "code",
   "execution_count": null,
   "metadata": {
    "colab": {
     "base_uri": "https://localhost:8080/",
     "height": 295,
     "referenced_widgets": [
      "43ce81cb6e3f48ccb11c2507d9bfef73",
      "c4d4150965d34df7870002467f618bea",
      "1fb4bc50d787413bb3880fef34a847b7",
      "c04704efcefd4b35a2aae7a354d966aa",
      "2a15dc7d15b14eba96196f4c8f211ad6",
      "04c4968137d74efbb4cfa41b89fcb3a4",
      "2d5f63af905b44f79e584a8e949bbf75",
      "6412974c2492468f80a277a202fc0493",
      "facc669ee8c64dc69fb3e5d7418c13ff",
      "0169409219be45b5beeebf753a62ba85",
      "fac96433760c4878bf8650371c147021"
     ]
    },
    "id": "L9kEWnS6DEht",
    "outputId": "38d2695f-511a-43b8-bca8-8cc55a0cde05"
   },
   "outputs": [
    {
     "name": "stdout",
     "output_type": "stream",
     "text": [
      "lpath.match — \u001b[1;32mINFO\u001b[0m — INFO: Replaced reassign() with reassign_custom.reassign_custom\n"
     ]
    },
    {
     "data": {
      "application/vnd.jupyter.widget-view+json": {
       "model_id": "43ce81cb6e3f48ccb11c2507d9bfef73",
       "version_major": 2,
       "version_minor": 0
      },
      "text/plain": [
       "  0%|          | 0/1482 [00:00<?, ?it/s]"
      ]
     },
     "metadata": {
      "application/vnd.jupyter.widget-view+json": {
       "colab": {
        "custom_widget_manager": {
         "url": "https://ssl.gstatic.com/colaboratory-static/widgets/colab-cdn-widget-manager/2b70e893a8ba7c0f/manager.min.js"
        }
       }
      }
     },
     "output_type": "display_data"
    },
    {
     "name": "stdout",
     "output_type": "stream",
     "text": [
      "Do you want to regenerate the graph with a new threshold (y/[n])?\n",
      "lpath.match — \u001b[1;32mINFO\u001b[0m — \n",
      "===LPATH Pattern Matching Statistics===\n",
      "   Total Number of clusters: 3\n",
      "   Weight/count/unique count of cluster 0: 3.41852857e-03 / 16 / N/A\n",
      "   Weight/count/unique count of cluster 1: 1.34655880e-04 / 10 / N/A\n",
      "   Weight/count/unique count of cluster 2: 1.15435288e-03 / 13 / N/A\n",
      "\n",
      "lpath.match — \u001b[1;32mINFO\u001b[0m — Outputting files\n",
      "lpath.match — \u001b[1;32mINFO\u001b[0m — cluster 0 representative weight: [20.0 8.0 18.0 1.0712000131607056 3115.1506328125 7.0\n",
      " 0.0005918560606060604]\n",
      "lpath.match — \u001b[1;32mINFO\u001b[0m — cluster 1 representative weight: [38.0 2.0 17.0 1.090999960899353 3073.4568078125 5.0\n",
      " 4.2340356604421324e-05]\n",
      "lpath.match — \u001b[1;32mINFO\u001b[0m — cluster 2 representative weight: [26.0 3.0 18.0 1.0712000131607056 3115.1506328125 9.0\n",
      " 0.00040563899005852295]\n"
     ]
    }
   ],
   "source": [
    "from lpath import match\n",
    "from argparse import Namespace\n",
    "import os\n",
    "import matplotlib.pyplot as plt\n",
    "\n",
    "\n",
    "# Clearing out the matplotlib axes/figures in memory\n",
    "plt.cla()\n",
    "plt.clf()\n",
    "\n",
    "# Since we're bypassing the command line argparse, we need to make our output directory 'plots' manually\n",
    "try:\n",
    "    os.mkdir('plots')\n",
    "except FileExistsError:\n",
    "    pass\n",
    "\n",
    "# All the arguments\n",
    "match_args = Namespace(debug=False,\n",
    "                       we=False,\n",
    "                       stats=True,\n",
    "                       out_dir='succ_traj',\n",
    "                       assign_name='./ANALYSIS/CRUDE_RMSD/assign.h5',\n",
    "                       west_name='./west.h5',\n",
    "                       rc_file='west.cfg',\n",
    "                       extract_output='succ_traj/output.pickle',\n",
    "                       output_pickle='succ_traj/pathways.pickle',\n",
    "                       cl_output='succ_traj/cluster_labels.npy',\n",
    "                       out_path='plots',\n",
    "                       stride=1,\n",
    "                       dmatrix_parallel=None,\n",
    "                       dmatrix_remake=True,\n",
    "                       dmatrix_save='succ_traj/distmat.npy',\n",
    "                       condense=2,\n",
    "                       exclude_short=0,\n",
    "                       export_h5=False,\n",
    "                       file_pattern='west_succ_c{}.h5',\n",
    "                       match_metric='longest_common_subsequence',\n",
    "                       match_vanilla=False,\n",
    "                       matplotlib_args='',\n",
    "                       mpl_colors=['tomato', 'dodgerblue', 'orchid', 'mediumseagreen', 'darkorange', 'mediumpurple', 'grey'],\n",
    "                       mpl_styles='default',\n",
    "                       num_clusters=3,\n",
    "                       dendrogram_threshold=0.5,\n",
    "                       plot_timeout=0,\n",
    "                       reassign_method='reassign_custom.reassign_custom',\n",
    "                       relabel_method='relabel_identity',\n",
    "                       remove_ends=False,\n",
    "                       dendrogram_show=True,\n",
    "                       clusters=None,\n",
    "                       separate=True,\n",
    "                       )\n",
    "\n",
    "# Running it\n",
    "match.main(match_args)"
   ]
  },
  {
   "cell_type": "markdown",
   "metadata": {
    "id": "mQHdc-ztiXIe"
   },
   "source": [
    "## Plot"
   ]
  },
  {
   "cell_type": "markdown",
   "metadata": {
    "id": "xk6puHJyBCS4"
   },
   "source": [
    "While this is not mentioned in the LPATH paper, we actually have a ``lpath plot`` function which helps plots many common graphs for visualization. While it is semi-customizable (you can even write your own plot functions) and useful as a first pass, users may elect to use the plotting scripts provided n the LPATH tutorial examples, which could be modified more easily.\n",
    "\n",
    "https://github.com/chonglab-pitt/LPATH/tree/main/examples/WE/plots"
   ]
  },
  {
   "cell_type": "markdown",
   "metadata": {
    "id": "wZPzoE8Fn_qm"
   },
   "source": [
    "### Command Line"
   ]
  },
  {
   "cell_type": "code",
   "execution_count": null,
   "metadata": {
    "id": "7KflgYxziXIi"
   },
   "outputs": [],
   "source": [
    "# Note that ``PATH=\"$HOME/.local/bin:$PATH\"`` is added because we are running bash within a jupyter notebook. \n",
    "# In most cases, running ``lpath`` directly should work\n",
    "\n",
    "! PATH=\"$HOME/.local/bin:$PATH\" lpath plot --stride 10\n",
    "# More verbose:\n",
    "# !lpath plot --plot-input 'succ_traj/pathways.pickle' --plot-cl 'succ_traj/cluster_labels.npy' --plot-dmatrix-file 'succ_traj/distmat.npy' --stride 10\n",
    "\n",
    "# --stride : Manually provide whatever value you used in ``lpath extract``. This is needed for plotting event duration.\n"
   ]
  },
  {
   "cell_type": "code",
   "execution_count": null,
   "metadata": {
    "id": "7RFmmD6TF_l9"
   },
   "outputs": [],
   "source": [
    "from IPython.display import IFrame, display\n",
    "filepath = \"plots/dendroram.pdf\"\n",
    "IFrame(filepath, width=700, height=400)"
   ]
  },
  {
   "cell_type": "code",
   "execution_count": null,
   "metadata": {
    "id": "ma5iyhV-GAFu"
   },
   "outputs": [],
   "source": [
    "from IPython.display import IFrame, display\n",
    "filepath = \"plots/durations.pdf\"\n",
    "IFrame(filepath, width=700, height=400)"
   ]
  },
  {
   "cell_type": "code",
   "execution_count": null,
   "metadata": {
    "id": "wH5Oxdn5GAPE"
   },
   "outputs": [],
   "source": [
    "from IPython.display import IFrame, display\n",
    "filepath = \"plots/weight_histogram.pdf\"\n",
    "IFrame(filepath, width=700, height=400)"
   ]
  },
  {
   "cell_type": "code",
   "execution_count": null,
   "metadata": {
    "id": "LNRD4UabGAbF"
   },
   "outputs": [],
   "source": [
    "from IPython.display import IFrame, display\n",
    "filepath = \"plots/target_iteration.pdf\"\n",
    "IFrame(filepath, width=700, height=400)"
   ]
  },
  {
   "cell_type": "markdown",
   "metadata": {
    "id": "pWo-O1HFvTV0",
    "jp-MarkdownHeadingCollapsed": true
   },
   "source": [
    "### Python"
   ]
  },
  {
   "cell_type": "code",
   "execution_count": null,
   "metadata": {
    "colab": {
     "base_uri": "https://localhost:8080/"
    },
    "id": "BhC9IDuvvTFS",
    "outputId": "f7303e79-a7d9-4c08-d7de-864ffa640df8"
   },
   "outputs": [
    {
     "name": "stdout",
     "output_type": "stream",
     "text": [
      "lpath.plot — \u001b[1;32mINFO\u001b[0m — There are 39 pathways.\n",
      "lpath.plot — \u001b[1;32mINFO\u001b[0m — Using default /usr/local/lib/python3.10/dist-packages/lpath/data/styles/default.mplstyle\n",
      "lpath.plot — \u001b[1;32mINFO\u001b[0m — Using default /usr/local/lib/python3.10/dist-packages/lpath/data/styles/default.mplstyle\n",
      "lpath.plot — \u001b[1;32mINFO\u001b[0m — Outputted graph in plots/weight_histogram.pdf.\n",
      "lpath.plot — \u001b[1;32mINFO\u001b[0m — Using default /usr/local/lib/python3.10/dist-packages/lpath/data/styles/default.mplstyle\n",
      "lpath.plot — \u001b[1;32mINFO\u001b[0m — Defaulting to default LPATH plot layout\n",
      "lpath.plot — \u001b[33;21mWARNING\u001b[0m — Plot axes index not given. Plotting all into first N axes.\n",
      "lpath.plot — \u001b[1;32mINFO\u001b[0m — Outputted graph in plots/target_iteration.pdf.\n",
      "lpath.plot — \u001b[1;32mINFO\u001b[0m — Using default /usr/local/lib/python3.10/dist-packages/lpath/data/styles/default.mplstyle\n",
      "lpath.plot — \u001b[1;32mINFO\u001b[0m — Defaulting to default LPATH plot layout\n",
      "lpath.plot — \u001b[33;21mWARNING\u001b[0m — Plot axes index not given. Plotting all into first N axes.\n",
      "lpath.plot — \u001b[1;32mINFO\u001b[0m — Outputted graph in plots/durations.pdf.\n"
     ]
    }
   ],
   "source": [
    "import os\n",
    "import matplotlib.pyplot as plt\n",
    "from argparse import Namespace\n",
    "\n",
    "from lpath import plot\n",
    "\n",
    "# Since we're bypassing the command line argparse, we need to make our output directory 'plots' manually\n",
    "try:\n",
    "    os.mkdir('plots')\n",
    "except FileExistsError:\n",
    "    pass\n",
    "\n",
    "# Clearing out the matplotlib axes/figures in memory\n",
    "plt.cla()\n",
    "plt.clf()\n",
    "\n",
    "# All the arguments\n",
    "plot_args = Namespace(debug=False,\n",
    "                       we=True,\n",
    "                       stats=True,\n",
    "                       out_dir='succ_traj',\n",
    "                       assign_name='./ANALYSIS/CRUDE_RMSD/assign.h5',\n",
    "                       west_name='./west.h5',\n",
    "                       rc_file='west.cfg',\n",
    "                       extract_output='succ_traj/output.pickle',\n",
    "                       cl_output='succ_traj/cluster_labels.npy',\n",
    "                       out_path='plots',\n",
    "                       output_pickle='succ_traj/pathways.pickle',\n",
    "                       stride=10,\n",
    "                       dmatrix_parallel=None,\n",
    "                       dmatrix_remake=True,\n",
    "                       dmatrix_save='succ_traj/distmat.npy',\n",
    "                       condense=2,\n",
    "                       exclude_short=0,\n",
    "                       export_h5=False,\n",
    "                       file_pattern='west_succ_c{}.h5',\n",
    "                       match_metric='longest_common_subsequence',\n",
    "                       match_vanilla=False,\n",
    "                       matplotlib_args='',\n",
    "                       mpl_colors=['tomato', 'dodgerblue', 'orchid', 'mediumseagreen', 'darkorange', 'mediumpurple', 'grey'],\n",
    "                       mpl_styles='default',\n",
    "                       num_clusters=3,\n",
    "                       dendrogram_threshold=0.5,\n",
    "                       plot_timeout=0,\n",
    "                       reassign_method='reassign_custom.reassign_custom',\n",
    "                       relabel_method='relabel_identity',\n",
    "                       remove_ends=False,\n",
    "                       dendrogram_show=False,\n",
    "                       clusters=None,\n",
    "                       )\n",
    "\n",
    "# Running it\n",
    "plot.main(plot_args)"
   ]
  },
  {
   "cell_type": "code",
   "execution_count": null,
   "metadata": {
    "id": "tJ1rD9_0vdEW"
   },
   "outputs": [],
   "source": []
  },
  {
   "cell_type": "markdown",
   "metadata": {
    "id": "drni-cq0wRK0"
   },
   "source": [
    "## Conclusion"
   ]
  },
  {
   "cell_type": "markdown",
   "metadata": {
    "id": "a4PgqX1LwSnG"
   },
   "source": [
    "And there it is! Do note there is a lot of trial-and-error involved in state definitions and we only used CA-RMSD and SASA here for demonstration purposes. LPATH also contains a mode for standard MD simulations. For more information about that, please do look at our LPATH paper and examples.\n",
    "\n",
    "<br>\n",
    "\n",
    "LPATH Paper: https://pubs.acs.org/doi/full/10.1021/acs.jcim.3c01318<br>\n",
    "GitHub Repository: https://github.com/chonglab-pitt/LPATH<br>\n",
    "Example Files: https://github.com/chonglab-pitt/LPATH/tree/main/examples\n"
   ]
  },
  {
   "cell_type": "code",
   "execution_count": null,
   "metadata": {
    "id": "0B4h8qR2wSUp"
   },
   "outputs": [],
   "source": []
  }
 ],
 "metadata": {
  "colab": {
   "collapsed_sections": [
    "wOnZNMbcnaoH",
    "TjKPY02wiCGU",
    "hF2cURgAu57h",
    "3SOvdX3Gu9lT",
    "7tUVLDq41Ef8",
    "_MPhZFDCDbZ1",
    "5lkH3KLjDEhs",
    "wZPzoE8Fn_qm",
    "pWo-O1HFvTV0"
   ],
   "provenance": []
  },
  "kernelspec": {
   "display_name": "Python 3 (ipykernel)",
   "language": "python",
   "name": "python3"
  },
  "language_info": {
   "codemirror_mode": {
    "name": "ipython",
    "version": 3
   },
   "file_extension": ".py",
   "mimetype": "text/x-python",
   "name": "python",
   "nbconvert_exporter": "python",
   "pygments_lexer": "ipython3",
   "version": "3.10.14"
  },
  "widgets": {
   "application/vnd.jupyter.widget-state+json": {
    "0169409219be45b5beeebf753a62ba85": {
     "model_module": "@jupyter-widgets/base",
     "model_module_version": "1.2.0",
     "model_name": "LayoutModel",
     "state": {
      "_model_module": "@jupyter-widgets/base",
      "_model_module_version": "1.2.0",
      "_model_name": "LayoutModel",
      "_view_count": null,
      "_view_module": "@jupyter-widgets/base",
      "_view_module_version": "1.2.0",
      "_view_name": "LayoutView",
      "align_content": null,
      "align_items": null,
      "align_self": null,
      "border": null,
      "bottom": null,
      "display": null,
      "flex": null,
      "flex_flow": null,
      "grid_area": null,
      "grid_auto_columns": null,
      "grid_auto_flow": null,
      "grid_auto_rows": null,
      "grid_column": null,
      "grid_gap": null,
      "grid_row": null,
      "grid_template_areas": null,
      "grid_template_columns": null,
      "grid_template_rows": null,
      "height": null,
      "justify_content": null,
      "justify_items": null,
      "left": null,
      "margin": null,
      "max_height": null,
      "max_width": null,
      "min_height": null,
      "min_width": null,
      "object_fit": null,
      "object_position": null,
      "order": null,
      "overflow": null,
      "overflow_x": null,
      "overflow_y": null,
      "padding": null,
      "right": null,
      "top": null,
      "visibility": null,
      "width": null
     }
    },
    "04c4968137d74efbb4cfa41b89fcb3a4": {
     "model_module": "@jupyter-widgets/base",
     "model_module_version": "1.2.0",
     "model_name": "LayoutModel",
     "state": {
      "_model_module": "@jupyter-widgets/base",
      "_model_module_version": "1.2.0",
      "_model_name": "LayoutModel",
      "_view_count": null,
      "_view_module": "@jupyter-widgets/base",
      "_view_module_version": "1.2.0",
      "_view_name": "LayoutView",
      "align_content": null,
      "align_items": null,
      "align_self": null,
      "border": null,
      "bottom": null,
      "display": null,
      "flex": null,
      "flex_flow": null,
      "grid_area": null,
      "grid_auto_columns": null,
      "grid_auto_flow": null,
      "grid_auto_rows": null,
      "grid_column": null,
      "grid_gap": null,
      "grid_row": null,
      "grid_template_areas": null,
      "grid_template_columns": null,
      "grid_template_rows": null,
      "height": null,
      "justify_content": null,
      "justify_items": null,
      "left": null,
      "margin": null,
      "max_height": null,
      "max_width": null,
      "min_height": null,
      "min_width": null,
      "object_fit": null,
      "object_position": null,
      "order": null,
      "overflow": null,
      "overflow_x": null,
      "overflow_y": null,
      "padding": null,
      "right": null,
      "top": null,
      "visibility": null,
      "width": null
     }
    },
    "1fb4bc50d787413bb3880fef34a847b7": {
     "model_module": "@jupyter-widgets/controls",
     "model_module_version": "1.5.0",
     "model_name": "FloatProgressModel",
     "state": {
      "_dom_classes": [],
      "_model_module": "@jupyter-widgets/controls",
      "_model_module_version": "1.5.0",
      "_model_name": "FloatProgressModel",
      "_view_count": null,
      "_view_module": "@jupyter-widgets/controls",
      "_view_module_version": "1.5.0",
      "_view_name": "ProgressView",
      "bar_style": "",
      "description": "",
      "description_tooltip": null,
      "layout": "IPY_MODEL_6412974c2492468f80a277a202fc0493",
      "max": 1482,
      "min": 0,
      "orientation": "horizontal",
      "style": "IPY_MODEL_facc669ee8c64dc69fb3e5d7418c13ff",
      "value": 1482
     }
    },
    "28b71f48dbb44f47af615d8aa00b0974": {
     "model_module": "@jupyter-widgets/controls",
     "model_module_version": "1.5.0",
     "model_name": "DescriptionStyleModel",
     "state": {
      "_model_module": "@jupyter-widgets/controls",
      "_model_module_version": "1.5.0",
      "_model_name": "DescriptionStyleModel",
      "_view_count": null,
      "_view_module": "@jupyter-widgets/base",
      "_view_module_version": "1.2.0",
      "_view_name": "StyleView",
      "description_width": ""
     }
    },
    "2a15dc7d15b14eba96196f4c8f211ad6": {
     "model_module": "@jupyter-widgets/base",
     "model_module_version": "1.2.0",
     "model_name": "LayoutModel",
     "state": {
      "_model_module": "@jupyter-widgets/base",
      "_model_module_version": "1.2.0",
      "_model_name": "LayoutModel",
      "_view_count": null,
      "_view_module": "@jupyter-widgets/base",
      "_view_module_version": "1.2.0",
      "_view_name": "LayoutView",
      "align_content": null,
      "align_items": null,
      "align_self": null,
      "border": null,
      "bottom": null,
      "display": null,
      "flex": null,
      "flex_flow": null,
      "grid_area": null,
      "grid_auto_columns": null,
      "grid_auto_flow": null,
      "grid_auto_rows": null,
      "grid_column": null,
      "grid_gap": null,
      "grid_row": null,
      "grid_template_areas": null,
      "grid_template_columns": null,
      "grid_template_rows": null,
      "height": null,
      "justify_content": null,
      "justify_items": null,
      "left": null,
      "margin": null,
      "max_height": null,
      "max_width": null,
      "min_height": null,
      "min_width": null,
      "object_fit": null,
      "object_position": null,
      "order": null,
      "overflow": null,
      "overflow_x": null,
      "overflow_y": null,
      "padding": null,
      "right": null,
      "top": null,
      "visibility": "hidden",
      "width": null
     }
    },
    "2d5f63af905b44f79e584a8e949bbf75": {
     "model_module": "@jupyter-widgets/controls",
     "model_module_version": "1.5.0",
     "model_name": "DescriptionStyleModel",
     "state": {
      "_model_module": "@jupyter-widgets/controls",
      "_model_module_version": "1.5.0",
      "_model_name": "DescriptionStyleModel",
      "_view_count": null,
      "_view_module": "@jupyter-widgets/base",
      "_view_module_version": "1.2.0",
      "_view_name": "StyleView",
      "description_width": ""
     }
    },
    "2d99991acf884a9da456462516e37857": {
     "model_module": "@jupyter-widgets/base",
     "model_module_version": "1.2.0",
     "model_name": "LayoutModel",
     "state": {
      "_model_module": "@jupyter-widgets/base",
      "_model_module_version": "1.2.0",
      "_model_name": "LayoutModel",
      "_view_count": null,
      "_view_module": "@jupyter-widgets/base",
      "_view_module_version": "1.2.0",
      "_view_name": "LayoutView",
      "align_content": null,
      "align_items": null,
      "align_self": null,
      "border": null,
      "bottom": null,
      "display": null,
      "flex": null,
      "flex_flow": null,
      "grid_area": null,
      "grid_auto_columns": null,
      "grid_auto_flow": null,
      "grid_auto_rows": null,
      "grid_column": null,
      "grid_gap": null,
      "grid_row": null,
      "grid_template_areas": null,
      "grid_template_columns": null,
      "grid_template_rows": null,
      "height": null,
      "justify_content": null,
      "justify_items": null,
      "left": null,
      "margin": null,
      "max_height": null,
      "max_width": null,
      "min_height": null,
      "min_width": null,
      "object_fit": null,
      "object_position": null,
      "order": null,
      "overflow": null,
      "overflow_x": null,
      "overflow_y": null,
      "padding": null,
      "right": null,
      "top": null,
      "visibility": null,
      "width": null
     }
    },
    "2fa73f00d0374b97a6f19ae15a318795": {
     "model_module": "@jupyter-widgets/base",
     "model_module_version": "1.2.0",
     "model_name": "LayoutModel",
     "state": {
      "_model_module": "@jupyter-widgets/base",
      "_model_module_version": "1.2.0",
      "_model_name": "LayoutModel",
      "_view_count": null,
      "_view_module": "@jupyter-widgets/base",
      "_view_module_version": "1.2.0",
      "_view_name": "LayoutView",
      "align_content": null,
      "align_items": null,
      "align_self": null,
      "border": null,
      "bottom": null,
      "display": null,
      "flex": null,
      "flex_flow": null,
      "grid_area": null,
      "grid_auto_columns": null,
      "grid_auto_flow": null,
      "grid_auto_rows": null,
      "grid_column": null,
      "grid_gap": null,
      "grid_row": null,
      "grid_template_areas": null,
      "grid_template_columns": null,
      "grid_template_rows": null,
      "height": null,
      "justify_content": null,
      "justify_items": null,
      "left": null,
      "margin": null,
      "max_height": null,
      "max_width": null,
      "min_height": null,
      "min_width": null,
      "object_fit": null,
      "object_position": null,
      "order": null,
      "overflow": null,
      "overflow_x": null,
      "overflow_y": null,
      "padding": null,
      "right": null,
      "top": null,
      "visibility": null,
      "width": null
     }
    },
    "43ce81cb6e3f48ccb11c2507d9bfef73": {
     "model_module": "@jupyter-widgets/controls",
     "model_module_version": "1.5.0",
     "model_name": "HBoxModel",
     "state": {
      "_dom_classes": [],
      "_model_module": "@jupyter-widgets/controls",
      "_model_module_version": "1.5.0",
      "_model_name": "HBoxModel",
      "_view_count": null,
      "_view_module": "@jupyter-widgets/controls",
      "_view_module_version": "1.5.0",
      "_view_name": "HBoxView",
      "box_style": "",
      "children": [
       "IPY_MODEL_c4d4150965d34df7870002467f618bea",
       "IPY_MODEL_1fb4bc50d787413bb3880fef34a847b7",
       "IPY_MODEL_c04704efcefd4b35a2aae7a354d966aa"
      ],
      "layout": "IPY_MODEL_2a15dc7d15b14eba96196f4c8f211ad6"
     }
    },
    "4eb6521c74df4c04bb6e30580c0bd1a1": {
     "model_module": "@jupyter-widgets/controls",
     "model_module_version": "1.5.0",
     "model_name": "HTMLModel",
     "state": {
      "_dom_classes": [],
      "_model_module": "@jupyter-widgets/controls",
      "_model_module_version": "1.5.0",
      "_model_name": "HTMLModel",
      "_view_count": null,
      "_view_module": "@jupyter-widgets/controls",
      "_view_module_version": "1.5.0",
      "_view_name": "HTMLView",
      "description": "",
      "description_tooltip": null,
      "layout": "IPY_MODEL_2fa73f00d0374b97a6f19ae15a318795",
      "placeholder": "​",
      "style": "IPY_MODEL_a96e001c02834e9aaf88dad5162cbad8",
      "value": " 91%"
     }
    },
    "582946b8b55c4f82baa0602d5ac7299b": {
     "model_module": "@jupyter-widgets/controls",
     "model_module_version": "1.5.0",
     "model_name": "FloatProgressModel",
     "state": {
      "_dom_classes": [],
      "_model_module": "@jupyter-widgets/controls",
      "_model_module_version": "1.5.0",
      "_model_name": "FloatProgressModel",
      "_view_count": null,
      "_view_module": "@jupyter-widgets/controls",
      "_view_module_version": "1.5.0",
      "_view_name": "ProgressView",
      "bar_style": "",
      "description": "",
      "description_tooltip": null,
      "layout": "IPY_MODEL_2d99991acf884a9da456462516e37857",
      "max": 1482,
      "min": 0,
      "orientation": "horizontal",
      "style": "IPY_MODEL_fa5abd55eaf44e00919fae7289ed4ee9",
      "value": 1482
     }
    },
    "6412974c2492468f80a277a202fc0493": {
     "model_module": "@jupyter-widgets/base",
     "model_module_version": "1.2.0",
     "model_name": "LayoutModel",
     "state": {
      "_model_module": "@jupyter-widgets/base",
      "_model_module_version": "1.2.0",
      "_model_name": "LayoutModel",
      "_view_count": null,
      "_view_module": "@jupyter-widgets/base",
      "_view_module_version": "1.2.0",
      "_view_name": "LayoutView",
      "align_content": null,
      "align_items": null,
      "align_self": null,
      "border": null,
      "bottom": null,
      "display": null,
      "flex": null,
      "flex_flow": null,
      "grid_area": null,
      "grid_auto_columns": null,
      "grid_auto_flow": null,
      "grid_auto_rows": null,
      "grid_column": null,
      "grid_gap": null,
      "grid_row": null,
      "grid_template_areas": null,
      "grid_template_columns": null,
      "grid_template_rows": null,
      "height": null,
      "justify_content": null,
      "justify_items": null,
      "left": null,
      "margin": null,
      "max_height": null,
      "max_width": null,
      "min_height": null,
      "min_width": null,
      "object_fit": null,
      "object_position": null,
      "order": null,
      "overflow": null,
      "overflow_x": null,
      "overflow_y": null,
      "padding": null,
      "right": null,
      "top": null,
      "visibility": null,
      "width": null
     }
    },
    "6a4f2baaa81c411b83ec7fd966c9dcd2": {
     "model_module": "@jupyter-widgets/controls",
     "model_module_version": "1.5.0",
     "model_name": "HTMLModel",
     "state": {
      "_dom_classes": [],
      "_model_module": "@jupyter-widgets/controls",
      "_model_module_version": "1.5.0",
      "_model_name": "HTMLModel",
      "_view_count": null,
      "_view_module": "@jupyter-widgets/controls",
      "_view_module_version": "1.5.0",
      "_view_name": "HTMLView",
      "description": "",
      "description_tooltip": null,
      "layout": "IPY_MODEL_d14fc6d4468245bbb22e9e2dab41460c",
      "placeholder": "​",
      "style": "IPY_MODEL_28b71f48dbb44f47af615d8aa00b0974",
      "value": " 1353/1482 [00:01&lt;00:00, 1769.21it/s]"
     }
    },
    "9dc637108b0b45e8b2a48812f7b99215": {
     "model_module": "@jupyter-widgets/base",
     "model_module_version": "1.2.0",
     "model_name": "LayoutModel",
     "state": {
      "_model_module": "@jupyter-widgets/base",
      "_model_module_version": "1.2.0",
      "_model_name": "LayoutModel",
      "_view_count": null,
      "_view_module": "@jupyter-widgets/base",
      "_view_module_version": "1.2.0",
      "_view_name": "LayoutView",
      "align_content": null,
      "align_items": null,
      "align_self": null,
      "border": null,
      "bottom": null,
      "display": null,
      "flex": null,
      "flex_flow": null,
      "grid_area": null,
      "grid_auto_columns": null,
      "grid_auto_flow": null,
      "grid_auto_rows": null,
      "grid_column": null,
      "grid_gap": null,
      "grid_row": null,
      "grid_template_areas": null,
      "grid_template_columns": null,
      "grid_template_rows": null,
      "height": null,
      "justify_content": null,
      "justify_items": null,
      "left": null,
      "margin": null,
      "max_height": null,
      "max_width": null,
      "min_height": null,
      "min_width": null,
      "object_fit": null,
      "object_position": null,
      "order": null,
      "overflow": null,
      "overflow_x": null,
      "overflow_y": null,
      "padding": null,
      "right": null,
      "top": null,
      "visibility": "hidden",
      "width": null
     }
    },
    "a96e001c02834e9aaf88dad5162cbad8": {
     "model_module": "@jupyter-widgets/controls",
     "model_module_version": "1.5.0",
     "model_name": "DescriptionStyleModel",
     "state": {
      "_model_module": "@jupyter-widgets/controls",
      "_model_module_version": "1.5.0",
      "_model_name": "DescriptionStyleModel",
      "_view_count": null,
      "_view_module": "@jupyter-widgets/base",
      "_view_module_version": "1.2.0",
      "_view_name": "StyleView",
      "description_width": ""
     }
    },
    "c04704efcefd4b35a2aae7a354d966aa": {
     "model_module": "@jupyter-widgets/controls",
     "model_module_version": "1.5.0",
     "model_name": "HTMLModel",
     "state": {
      "_dom_classes": [],
      "_model_module": "@jupyter-widgets/controls",
      "_model_module_version": "1.5.0",
      "_model_name": "HTMLModel",
      "_view_count": null,
      "_view_module": "@jupyter-widgets/controls",
      "_view_module_version": "1.5.0",
      "_view_name": "HTMLView",
      "description": "",
      "description_tooltip": null,
      "layout": "IPY_MODEL_0169409219be45b5beeebf753a62ba85",
      "placeholder": "​",
      "style": "IPY_MODEL_fac96433760c4878bf8650371c147021",
      "value": " 1504/? [00:03&lt;00:00, 684.52it/s]"
     }
    },
    "c3deed447ae0489ea643412c4a43c01c": {
     "model_module": "@jupyter-widgets/controls",
     "model_module_version": "1.5.0",
     "model_name": "HBoxModel",
     "state": {
      "_dom_classes": [],
      "_model_module": "@jupyter-widgets/controls",
      "_model_module_version": "1.5.0",
      "_model_name": "HBoxModel",
      "_view_count": null,
      "_view_module": "@jupyter-widgets/controls",
      "_view_module_version": "1.5.0",
      "_view_name": "HBoxView",
      "box_style": "",
      "children": [
       "IPY_MODEL_4eb6521c74df4c04bb6e30580c0bd1a1",
       "IPY_MODEL_582946b8b55c4f82baa0602d5ac7299b",
       "IPY_MODEL_6a4f2baaa81c411b83ec7fd966c9dcd2"
      ],
      "layout": "IPY_MODEL_9dc637108b0b45e8b2a48812f7b99215"
     }
    },
    "c4d4150965d34df7870002467f618bea": {
     "model_module": "@jupyter-widgets/controls",
     "model_module_version": "1.5.0",
     "model_name": "HTMLModel",
     "state": {
      "_dom_classes": [],
      "_model_module": "@jupyter-widgets/controls",
      "_model_module_version": "1.5.0",
      "_model_name": "HTMLModel",
      "_view_count": null,
      "_view_module": "@jupyter-widgets/controls",
      "_view_module_version": "1.5.0",
      "_view_name": "HTMLView",
      "description": "",
      "description_tooltip": null,
      "layout": "IPY_MODEL_04c4968137d74efbb4cfa41b89fcb3a4",
      "placeholder": "​",
      "style": "IPY_MODEL_2d5f63af905b44f79e584a8e949bbf75",
      "value": ""
     }
    },
    "d14fc6d4468245bbb22e9e2dab41460c": {
     "model_module": "@jupyter-widgets/base",
     "model_module_version": "1.2.0",
     "model_name": "LayoutModel",
     "state": {
      "_model_module": "@jupyter-widgets/base",
      "_model_module_version": "1.2.0",
      "_model_name": "LayoutModel",
      "_view_count": null,
      "_view_module": "@jupyter-widgets/base",
      "_view_module_version": "1.2.0",
      "_view_name": "LayoutView",
      "align_content": null,
      "align_items": null,
      "align_self": null,
      "border": null,
      "bottom": null,
      "display": null,
      "flex": null,
      "flex_flow": null,
      "grid_area": null,
      "grid_auto_columns": null,
      "grid_auto_flow": null,
      "grid_auto_rows": null,
      "grid_column": null,
      "grid_gap": null,
      "grid_row": null,
      "grid_template_areas": null,
      "grid_template_columns": null,
      "grid_template_rows": null,
      "height": null,
      "justify_content": null,
      "justify_items": null,
      "left": null,
      "margin": null,
      "max_height": null,
      "max_width": null,
      "min_height": null,
      "min_width": null,
      "object_fit": null,
      "object_position": null,
      "order": null,
      "overflow": null,
      "overflow_x": null,
      "overflow_y": null,
      "padding": null,
      "right": null,
      "top": null,
      "visibility": null,
      "width": null
     }
    },
    "fa5abd55eaf44e00919fae7289ed4ee9": {
     "model_module": "@jupyter-widgets/controls",
     "model_module_version": "1.5.0",
     "model_name": "ProgressStyleModel",
     "state": {
      "_model_module": "@jupyter-widgets/controls",
      "_model_module_version": "1.5.0",
      "_model_name": "ProgressStyleModel",
      "_view_count": null,
      "_view_module": "@jupyter-widgets/base",
      "_view_module_version": "1.2.0",
      "_view_name": "StyleView",
      "bar_color": null,
      "description_width": ""
     }
    },
    "fac96433760c4878bf8650371c147021": {
     "model_module": "@jupyter-widgets/controls",
     "model_module_version": "1.5.0",
     "model_name": "DescriptionStyleModel",
     "state": {
      "_model_module": "@jupyter-widgets/controls",
      "_model_module_version": "1.5.0",
      "_model_name": "DescriptionStyleModel",
      "_view_count": null,
      "_view_module": "@jupyter-widgets/base",
      "_view_module_version": "1.2.0",
      "_view_name": "StyleView",
      "description_width": ""
     }
    },
    "facc669ee8c64dc69fb3e5d7418c13ff": {
     "model_module": "@jupyter-widgets/controls",
     "model_module_version": "1.5.0",
     "model_name": "ProgressStyleModel",
     "state": {
      "_model_module": "@jupyter-widgets/controls",
      "_model_module_version": "1.5.0",
      "_model_name": "ProgressStyleModel",
      "_view_count": null,
      "_view_module": "@jupyter-widgets/base",
      "_view_module_version": "1.2.0",
      "_view_name": "StyleView",
      "bar_color": null,
      "description_width": ""
     }
    }
   }
  }
 },
 "nbformat": 4,
 "nbformat_minor": 4
}
